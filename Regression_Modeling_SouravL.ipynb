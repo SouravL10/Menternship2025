{
  "nbformat": 4,
  "nbformat_minor": 0,
  "metadata": {
    "colab": {
      "provenance": []
    },
    "kernelspec": {
      "name": "python3",
      "display_name": "Python 3"
    },
    "language_info": {
      "name": "python"
    }
  },
  "cells": [
    {
      "cell_type": "markdown",
      "source": [
        "## 1. Select and train the Regression Model:\n",
        "There are several regression algorithms available, such as linear regression, decision tree regression, random forest regression, or support vector regression. In this task, you will select an appropriate regression model based on the nature of the problem and the characteristics of your dataset.\n",
        "\n",
        "Training the Regression Model:\n",
        "\n",
        "Using the training set prepared in the previous component, you will train the selected regression model. The model will learn the patterns and relationships between the input features and the fare amount."
      ],
      "metadata": {
        "id": "UukNJNmuaaxO"
      }
    },
    {
      "cell_type": "code",
      "source": [
        "from IPython import get_ipython\n",
        "from IPython.display import display\n",
        "# %%\n",
        "import pandas as pd\n",
        "from sklearn.model_selection import train_test_split\n",
        "from sklearn.linear_model import LinearRegression\n",
        "from sklearn.metrics import mean_squared_error, r2_score, mean_absolute_error # Import mean_absolute_error\n"
      ],
      "metadata": {
        "id": "djouXm_ecI7h"
      },
      "execution_count": 1,
      "outputs": []
    },
    {
      "cell_type": "code",
      "source": [
        "# Provide the correct path to the file on Google Drive\n",
        "data_no_outliers = pd.read_csv('/content/drive/MyDrive/Menternship 2025/uber_cleaned.csv')\n",
        "\n",
        "# Verify the data is loaded correctly\n",
        "print(data_no_outliers.head())\n"
      ],
      "metadata": {
        "colab": {
          "base_uri": "https://localhost:8080/"
        },
        "id": "UA9OT3y4cMJ5",
        "outputId": "400fb881-ee77-4c4a-87ae-872a518aa3a6"
      },
      "execution_count": 2,
      "outputs": [
        {
          "output_type": "stream",
          "name": "stdout",
          "text": [
            "   Unnamed: 0                            key  fare_amount  \\\n",
            "0    24238194    2015-05-07 19:52:06.0000003          7.5   \n",
            "1    27835199    2009-07-17 20:04:56.0000002          7.7   \n",
            "2    44984355   2009-08-24 21:45:00.00000061         12.9   \n",
            "3    25894730    2009-06-26 08:22:21.0000001          5.3   \n",
            "4    17610152  2014-08-28 17:47:00.000000188         16.0   \n",
            "\n",
            "             pickup_datetime  pickup_longitude  pickup_latitude  \\\n",
            "0  2015-05-07 19:52:06+00:00        -73.999817        40.738354   \n",
            "1  2009-07-17 20:04:56+00:00        -73.994355        40.728225   \n",
            "2  2009-08-24 21:45:00+00:00        -74.005043        40.740770   \n",
            "3  2009-06-26 08:22:21+00:00        -73.976124        40.790844   \n",
            "4  2014-08-28 17:47:00+00:00        -73.925023        40.744085   \n",
            "\n",
            "   dropoff_longitude  dropoff_latitude  passenger_count  hour  day_of_week  \\\n",
            "0         -73.999512         40.723217                1    19            3   \n",
            "1         -73.994710         40.750325                1    20            4   \n",
            "2         -73.962565         40.772647                1    21            0   \n",
            "3         -73.965316         40.803349                3     8            4   \n",
            "4         -73.973082         40.761247                5    17            3   \n",
            "\n",
            "   month  year time_of_day  distance_km distance_category  is_group  \\\n",
            "0      5  2015     Evening     1.683323             Short         0   \n",
            "1      7  2009     Evening     2.457590            Medium         0   \n",
            "2      8  2009       Night     5.036377            Medium         0   \n",
            "3      6  2009     Morning     1.661683             Short         1   \n",
            "4      8  2014     Evening     4.475450            Medium         1   \n",
            "\n",
            "   is_outlier_passenger_count  fare_per_km time_distance_interaction  \n",
            "0                           0     4.455474             Evening_Short  \n",
            "1                           0     3.133151            Evening_Medium  \n",
            "2                           0     2.561365              Night_Medium  \n",
            "3                           0     3.189536             Morning_Short  \n",
            "4                           0     3.575060            Evening_Medium  \n"
          ]
        }
      ]
    },
    {
      "cell_type": "markdown",
      "source": [
        "## Define Features and Target Variable:\n",
        "Select your features (independent variables) and target variable (dependent variable)."
      ],
      "metadata": {
        "id": "LEe_mMSKbvPR"
      }
    },
    {
      "cell_type": "code",
      "source": [
        "# Select the relevant features\n",
        "X = data_no_outliers[['distance_km', 'hour', 'passenger_count']]\n",
        "\n",
        "# Target variable\n",
        "y = data_no_outliers['fare_amount']\n"
      ],
      "metadata": {
        "id": "ZUFZ5bJef7m6"
      },
      "execution_count": 3,
      "outputs": []
    },
    {
      "cell_type": "markdown",
      "source": [
        "## Split the Data into Training and Testing Sets:\n",
        "Split the data into training and testing sets (typically 70-30 or 80-20)."
      ],
      "metadata": {
        "id": "DG5m_HLOb7Kj"
      }
    },
    {
      "cell_type": "code",
      "source": [
        "# Split the data into training (80%) and testing (20%) sets\n",
        "X_train, X_test, y_train, y_test = train_test_split(X, y, test_size=0.2, random_state=42)"
      ],
      "metadata": {
        "id": "scPspGshgaqE"
      },
      "execution_count": 4,
      "outputs": []
    },
    {
      "cell_type": "markdown",
      "source": [
        "As in 2nd components output a stronger correlation (0.5553) and a clearer trend in the scatter plot indicate that a linear regression model is appropriate for capturing this relationship."
      ],
      "metadata": {
        "id": "3jM0OgepaJNV"
      }
    },
    {
      "cell_type": "markdown",
      "source": [
        "## Linear Regression:"
      ],
      "metadata": {
        "id": "w36FJqT1cCJC"
      }
    },
    {
      "cell_type": "code",
      "source": [
        "# Initialize and train the Linear Regression model\n",
        "linear_model = LinearRegression()\n",
        "linear_model.fit(X_train, y_train)\n",
        "\n",
        "# Make predictions\n",
        "y_pred_linear = linear_model.predict(X_test)\n",
        "\n",
        "# Evaluate the model\n",
        "linear_r2 = r2_score(y_test, y_pred_linear)\n",
        "linear_mse = mean_squared_error(y_test, y_pred_linear)\n",
        "\n",
        "print(f\"Linear Regression R²: {linear_r2}\")\n",
        "print(f\"Linear Regression MSE: {linear_mse}\")\n",
        "\n"
      ],
      "metadata": {
        "colab": {
          "base_uri": "https://localhost:8080/"
        },
        "id": "EDb-PXd4glOh",
        "outputId": "fd85eefd-84b6-4488-f9f3-45df202e26e1"
      },
      "execution_count": 21,
      "outputs": [
        {
          "output_type": "stream",
          "name": "stdout",
          "text": [
            "Linear Regression R²: 0.3341510526819308\n",
            "Linear Regression MSE: 21.90990962776344\n"
          ]
        }
      ]
    },
    {
      "cell_type": "markdown",
      "source": [
        "## Random Forest Regression:\n",
        "For a more powerful model, you can try Random Forest Regression:"
      ],
      "metadata": {
        "id": "YCXaRMXKcmVC"
      }
    },
    {
      "cell_type": "code",
      "source": [
        "from sklearn.ensemble import RandomForestRegressor\n",
        "\n",
        "# Initialize and train the Random Forest Regressor model\n",
        "forest_model = RandomForestRegressor(n_estimators=100, random_state=42)\n",
        "forest_model.fit(X_train, y_train)\n",
        "\n",
        "# Make predictions\n",
        "y_pred_forest = forest_model.predict(X_test)\n",
        "\n",
        "# Evaluate the model\n",
        "forest_r2 = r2_score(y_test, y_pred_forest)\n",
        "forest_mse = mean_squared_error(y_test, y_pred_forest)\n",
        "\n",
        "print(f\"Random Forest Regression R²: {forest_r2}\")\n",
        "print(f\"Random Forest Regression MSE: {forest_mse}\")\n"
      ],
      "metadata": {
        "colab": {
          "base_uri": "https://localhost:8080/"
        },
        "id": "iQcQbo0xcQ55",
        "outputId": "34eaa955-be26-4bf8-8396-9f5fb4495da4"
      },
      "execution_count": 20,
      "outputs": [
        {
          "output_type": "stream",
          "name": "stdout",
          "text": [
            "Random Forest Regression R²: 0.3201790115200914\n",
            "Random Forest Regression MSE: 22.369662790105018\n"
          ]
        }
      ]
    },
    {
      "cell_type": "code",
      "source": [
        "# Predict the fare amount for the test data\n",
        "y_pred = model.predict(X_test)\n",
        "print(y_pred)"
      ],
      "metadata": {
        "id": "AgSgtJeXg9dJ",
        "colab": {
          "base_uri": "https://localhost:8080/"
        },
        "outputId": "3b649937-2aa9-4dd0-ada0-0b6be62e46f7"
      },
      "execution_count": 22,
      "outputs": [
        {
          "output_type": "stream",
          "name": "stdout",
          "text": [
            "[ 6.84677254  6.73137597 18.00617886 ...  9.34968537 11.10200991\n",
            "  6.79939299]\n"
          ]
        }
      ]
    },
    {
      "cell_type": "markdown",
      "source": [
        "## 2. Evaluate the Regression Model:\n",
        "Once the model is trained, it's crucial to evaluate its performance to assess how well it can predict the fare amount for unseen data.\n",
        "\n",
        "In this task, you will use evaluation metrics such as mean squared error (MSE), mean absolute error (MAE), or R-squared to quantify the model's performance."
      ],
      "metadata": {
        "id": "9zSQ8MoZa2HW"
      }
    },
    {
      "cell_type": "code",
      "source": [
        "# Calculate performance metrics\n",
        "mae = mean_absolute_error(y_test, y_pred)  # Mean Absolute Error\n",
        "mse = mean_squared_error(y_test, y_pred)  # Mean Squared Error\n",
        "r2 = r2_score(y_test, y_pred)  # R-squared score\n",
        "\n",
        "print(f'Mean Absolute Error: {mae}')\n",
        "print(f'Mean Squared Error: {mse}')\n",
        "print(f'R-squared: {r2}')\n"
      ],
      "metadata": {
        "colab": {
          "base_uri": "https://localhost:8080/"
        },
        "id": "mqyb_-yXhEH5",
        "outputId": "024a3488-ecdb-4b3c-fc33-1e27f6ad0529"
      },
      "execution_count": 7,
      "outputs": [
        {
          "output_type": "stream",
          "name": "stdout",
          "text": [
            "Mean Absolute Error: 2.2220997092516073\n",
            "Mean Squared Error: 21.90990962776344\n",
            "R-squared: 0.3341510526819308\n"
          ]
        }
      ]
    },
    {
      "cell_type": "markdown",
      "source": [
        "##Visualize the Results:\n",
        "Visualize the model’s predictions against the actual values using a scatter plot and line plot:"
      ],
      "metadata": {
        "id": "j8P4FwWYdKvv"
      }
    },
    {
      "cell_type": "code",
      "source": [
        "import matplotlib.pyplot as plt\n",
        "\n",
        "# Plot actual vs predicted values\n",
        "plt.scatter(y_test, y_pred)\n",
        "plt.xlabel('Actual Fare Amount')\n",
        "plt.ylabel('Predicted Fare Amount')\n",
        "plt.title('Actual vs Predicted Fare Amount')\n",
        "plt.show()\n"
      ],
      "metadata": {
        "colab": {
          "base_uri": "https://localhost:8080/",
          "height": 472
        },
        "id": "xnkqkxo8idZ5",
        "outputId": "1cd75253-a384-4a30-e048-53005036f214"
      },
      "execution_count": 26,
      "outputs": [
        {
          "output_type": "display_data",
          "data": {
            "text/plain": [
              "<Figure size 640x480 with 1 Axes>"
            ],
            "image/png": "[encoded data removed]"
          },
          "metadata": {}
        }
      ]
    },
    {
      "cell_type": "markdown",
      "source": [
        "## 3. Fine-tuning the Model:\n",
        "To further improve the model's performance, you can fine-tune its hyperparameters. Hyperparameters are configuration settings that determine the behavior of the model during training.\n",
        "\n",
        "You can use techniques like grid search or random search to find the optimal combination of hyperparameters that minimizes the prediction error."
      ],
      "metadata": {
        "id": "huWPFs26bN4m"
      }
    },
    {
      "cell_type": "code",
      "source": [
        "from sklearn.linear_model import Ridge, Lasso\n",
        "from sklearn.model_selection import GridSearchCV\n",
        "from sklearn.metrics import mean_absolute_error, mean_squared_error, r2_score"
      ],
      "metadata": {
        "id": "l5kNv9xAja46"
      },
      "execution_count": 9,
      "outputs": []
    },
    {
      "cell_type": "markdown",
      "source": [
        "### Steps to fine-tune the model with GridSearchCV:"
      ],
      "metadata": {
        "id": "GUxQfob7etXg"
      }
    },
    {
      "cell_type": "markdown",
      "source": [
        "### Set up hyperparameter grid:\n",
        "For Ridge Regression"
      ],
      "metadata": {
        "id": "1ihzh7Vde8OH"
      }
    },
    {
      "cell_type": "code",
      "source": [
        "ridge = Ridge()\n",
        "\n",
        "# Define hyperparameters grid for Ridge\n",
        "param_grid_ridge = {\n",
        "    'alpha': [0.1, 1, 10, 100]  # Regularization strengths to test\n",
        "}"
      ],
      "metadata": {
        "id": "Wezv_Hx-jyuV"
      },
      "execution_count": 10,
      "outputs": []
    },
    {
      "cell_type": "markdown",
      "source": [
        "For Lasso Regression:"
      ],
      "metadata": {
        "id": "BNmDoif4fDB-"
      }
    },
    {
      "cell_type": "code",
      "source": [
        "lasso = Lasso()\n",
        "\n",
        "# Define hyperparameters grid for Lasso\n",
        "param_grid_lasso = {\n",
        "    'alpha': [0.1, 1, 10, 100]  # Regularization strengths to test\n",
        "}"
      ],
      "metadata": {
        "id": "w1rDRXX_j21g"
      },
      "execution_count": 11,
      "outputs": []
    },
    {
      "cell_type": "markdown",
      "source": [
        "### Perform Grid Search for Ridge and Lasso:\n",
        "For Ridge"
      ],
      "metadata": {
        "id": "r2LU-TvcfJkv"
      }
    },
    {
      "cell_type": "code",
      "source": [
        "grid_search_ridge = GridSearchCV(ridge, param_grid_ridge, cv=5, scoring='neg_mean_squared_error', n_jobs=-1)\n",
        "grid_search_ridge.fit(X_train, y_train)\n",
        "\n",
        "print(f\"Best parameters for Ridge: {grid_search_ridge.best_params_}\")\n",
        "print(f\"Best score for Ridge: {grid_search_ridge.best_score_}\")\n"
      ],
      "metadata": {
        "colab": {
          "base_uri": "https://localhost:8080/"
        },
        "id": "_5FLkvr1j58F",
        "outputId": "8a91da55-c792-4f9e-d616-c0c50dd28547"
      },
      "execution_count": 12,
      "outputs": [
        {
          "output_type": "stream",
          "name": "stdout",
          "text": [
            "Best parameters for Ridge: {'alpha': 10}\n",
            "Best score for Ridge: -24.73367769347511\n"
          ]
        }
      ]
    },
    {
      "cell_type": "markdown",
      "source": [
        "For Lasso:"
      ],
      "metadata": {
        "id": "n3-S-B-FfNrn"
      }
    },
    {
      "cell_type": "code",
      "source": [
        "grid_search_lasso = GridSearchCV(lasso, param_grid_lasso, cv=5, scoring='neg_mean_squared_error', n_jobs=-1)\n",
        "grid_search_lasso.fit(X_train, y_train)\n",
        "\n",
        "print(f\"Best parameters for Lasso: {grid_search_lasso.best_params_}\")\n",
        "print(f\"Best score for Lasso: {grid_search_lasso.best_score_}\")\n"
      ],
      "metadata": {
        "colab": {
          "base_uri": "https://localhost:8080/"
        },
        "id": "KShVVd-5j9m6",
        "outputId": "91dd6f8f-ffd3-41a5-b7f2-0e068d27615b"
      },
      "execution_count": 13,
      "outputs": [
        {
          "output_type": "stream",
          "name": "stdout",
          "text": [
            "Best parameters for Lasso: {'alpha': 0.1}\n",
            "Best score for Lasso: -24.73637788243486\n"
          ]
        }
      ]
    },
    {
      "cell_type": "markdown",
      "source": [
        "### Evaluate the best model from Grid Search:\n",
        "Once you have the best hyperparameters, you can evaluate the model on the test set.\n",
        "\n",
        "For Ridge"
      ],
      "metadata": {
        "id": "d_vaACgGfSku"
      }
    },
    {
      "cell_type": "code",
      "source": [
        "# Get the predictions for Ridge\n",
        "y_pred_ridge = grid_search_ridge.predict(X_test)\n",
        "\n",
        "# Evaluate the performance of Ridge\n",
        "print(f\"Ridge - Mean Absolute Error: {mean_absolute_error(y_test, y_pred_ridge)}\")\n",
        "print(f\"Ridge - Mean Squared Error: {mean_squared_error(y_test, y_pred_ridge)}\")\n",
        "print(f\"Ridge - R-squared: {r2_score(y_test, y_pred_ridge)}\")\n"
      ],
      "metadata": {
        "colab": {
          "base_uri": "https://localhost:8080/"
        },
        "id": "vqe0fZQSkOjJ",
        "outputId": "b6a66189-0ce5-4cfa-e4d0-bb398b45cd2d"
      },
      "execution_count": 14,
      "outputs": [
        {
          "output_type": "stream",
          "name": "stdout",
          "text": [
            "Ridge - Mean Absolute Error: 2.222110269381116\n",
            "Ridge - Mean Squared Error: 21.9099162182016\n",
            "Ridge - R-squared: 0.3341508523964716\n"
          ]
        }
      ]
    },
    {
      "cell_type": "markdown",
      "source": [
        "For Lasso:"
      ],
      "metadata": {
        "id": "9_4YLxbrfWLt"
      }
    },
    {
      "cell_type": "code",
      "source": [
        "# Get the predictions for Lasso\n",
        "y_pred_lasso = grid_search_lasso.predict(X_test)\n",
        "\n",
        "# Evaluate the performance of Lasso\n",
        "print(f\"Lasso - Mean Absolute Error: {mean_absolute_error(y_test, y_pred_lasso)}\")\n",
        "print(f\"Lasso - Mean Squared Error: {mean_squared_error(y_test, y_pred_lasso)}\")\n",
        "print(f\"Lasso - R-squared: {r2_score(y_test, y_pred_lasso)}\")\n"
      ],
      "metadata": {
        "colab": {
          "base_uri": "https://localhost:8080/"
        },
        "id": "ZkMEhnv4kSIU",
        "outputId": "f2ca9d44-fbf0-4ed7-b195-7f3e30410677"
      },
      "execution_count": 15,
      "outputs": [
        {
          "output_type": "stream",
          "name": "stdout",
          "text": [
            "Lasso - Mean Absolute Error: 2.2307585159450367\n",
            "Lasso - Mean Squared Error: 21.920125490648836\n",
            "Lasso - R-squared: 0.3338405894411529\n"
          ]
        }
      ]
    },
    {
      "cell_type": "markdown",
      "source": [
        "## Fine-tuning ElasticNet and Randomized Search:\n",
        "Here’s how you can perform further tuning using ElasticNet and RandomizedSearchCV for hyperparameter optimization.\n",
        "\n",
        "python\n",
        "Copy code\n"
      ],
      "metadata": {
        "id": "ap0x04QFhpTN"
      }
    },
    {
      "cell_type": "code",
      "source": [
        "# Import necessary libraries\n",
        "from sklearn.linear_model import ElasticNet\n",
        "from sklearn.model_selection import RandomizedSearchCV\n",
        "from sklearn.metrics import mean_absolute_error, mean_squared_error, r2_score\n",
        "from scipy.stats import uniform\n",
        "import warnings\n",
        "\n",
        "# Suppress warnings for cleaner output\n",
        "warnings.filterwarnings(\"ignore\", category=UserWarning)\n",
        "\n",
        "# Define the ElasticNet model\n",
        "elastic_net = ElasticNet()\n",
        "\n",
        "# Define the parameter distributions for RandomizedSearchCV\n",
        "# 'alpha': Regularization strength (positive values only)\n",
        "# 'l1_ratio': The mix ratio between L1 (Lasso) and L2 (Ridge), valid range is [0.0, 1.0]\n",
        "param_distributions = {\n",
        "    'alpha': uniform(0.01, 10),  # Random values in the range [0.01, 10]\n",
        "    'l1_ratio': uniform(0, 1)    # Random values in the range [0, 1]\n",
        "}\n",
        "\n",
        "# Set up RandomizedSearchCV with 50 iterations for hyperparameter tuning\n",
        "random_search = RandomizedSearchCV(\n",
        "    estimator=elastic_net,                # ElasticNet model\n",
        "    param_distributions=param_distributions,  # Parameter distributions to sample from\n",
        "    scoring='neg_mean_squared_error',     # Use negative MSE as the scoring metric\n",
        "    cv=5,                                 # 5-fold cross-validation\n",
        "    n_iter=50,                            # Number of random configurations to try\n",
        "    random_state=42                       # Set seed for reproducibility\n",
        ")\n",
        "\n",
        "# Fit the RandomizedSearchCV on the training data\n",
        "random_search.fit(X_train, y_train)\n",
        "\n",
        "# Output the best hyperparameters and their corresponding score\n",
        "print(\"Best parameters for ElasticNet (Random Search):\", random_search.best_params_)\n",
        "print(\"Best score for ElasticNet (Random Search):\", random_search.best_score_)\n",
        "\n",
        "# Retrieve the best model from the search\n",
        "best_elastic_net = random_search.best_estimator_\n",
        "\n",
        "# Make predictions using the best model on the test set\n",
        "y_pred = best_elastic_net.predict(X_test)\n",
        "\n",
        "# Evaluate the model's performance on the test set\n",
        "print(\"ElasticNet - Mean Absolute Error:\", mean_absolute_error(y_test, y_pred))\n",
        "print(\"ElasticNet - Mean Squared Error:\", mean_squared_error(y_test, y_pred))\n",
        "print(\"ElasticNet - R-squared:\", r2_score(y_test, y_pred))\n"
      ],
      "metadata": {
        "colab": {
          "base_uri": "https://localhost:8080/"
        },
        "id": "FAXNIlDjgjcZ",
        "outputId": "362a2cda-bf71-453b-e6a5-ce54128eabb7"
      },
      "execution_count": 29,
      "outputs": [
        {
          "output_type": "stream",
          "name": "stdout",
          "text": [
            "Best parameters for ElasticNet (Random Search): {'alpha': 0.06522117123602399, 'l1_ratio': 0.8154614284548342}\n",
            "Best score for ElasticNet (Random Search): -24.735240623442174\n",
            "ElasticNet - Mean Absolute Error: 2.2287092396151613\n",
            "ElasticNet - Mean Squared Error: 21.917491104627956\n",
            "ElasticNet - R-squared: 0.3339206492491865\n"
          ]
        }
      ]
    },
    {
      "cell_type": "markdown",
      "source": [
        "## Conclusion:\n",
        "The ElasticNet model performs slightly better than Lasso and Ridge:\n",
        "\n",
        "MAE and MSE are slightly lower.\n",
        "R-squared is marginally higher.\n",
        "Regularization: The tuned hyperparameters suggest a strong emphasis on sparsity (L1 regularization), which means that the model likely identified a subset of the most relevant features while reducing overfitting."
      ],
      "metadata": {
        "id": "lTgE3Q4_gHZ5"
      }
    },
    {
      "cell_type": "code",
      "source": [
        "# Add a file name to the path\n",
        "data_no_outliers.to_csv('/content/drive/MyDrive/Menternship 2025/regression_modelling.csv', index=False)"
      ],
      "metadata": {
        "id": "mSSnLGfLiby-"
      },
      "execution_count": 30,
      "outputs": []
    }
  ]
}